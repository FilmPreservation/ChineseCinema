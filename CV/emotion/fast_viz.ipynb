{
 "cells": [
  {
   "cell_type": "code",
   "execution_count": null,
   "metadata": {},
   "outputs": [],
   "source": [
    "import plotly.express as px\n",
    "import pandas as pd\n",
    "\n",
    "###Can be \"intensity\" or \"level\"\n",
    "ATTRIBUTE = \"intensity\"\n",
    "###Can be \"category\", \"studio\", \"year\", or \"type\"\n",
    "GROUPING = \"category\"\n",
    "###Can be \"pos\" or \"frame\"\n",
    "X_AXIS = \"pos\"\n",
    "\n",
    "ANIMATE = False\n",
    "\n",
    "CHN_ONLY = True\n",
    "\n",
    "HISTO = False\n",
    "HISTO_FUNC = \"avg\""
   ]
  },
  {
   "cell_type": "code",
   "execution_count": null,
   "metadata": {},
   "outputs": [],
   "source": [
    "if CHN_ONLY:\n",
    "    tarpath = \"../emotion_results_chn.csv\"\n",
    "else:\n",
    "    tarpath = \"../emotion_results.csv\"\n",
    "\n",
    "df = pd.read_csv(tarpath)\n",
    "df = df.sort_values(by=\"frame\")\n",
    "\n",
    "# Display the data frame in Plotly scatter plot\n",
    "if not ANIMATE:\n",
    "    if HISTO:\n",
    "        fig = px.histogram(df, y=ATTRIBUTE, x=X_AXIS, color=GROUPING, marginal=\"rug\", hover_name=\"film\", hover_data=[\"film\",\"frame\"], histfunc=HISTO_FUNC, nbins=10)\n",
    "    else:\n",
    "        fig = px.scatter(df, x=X_AXIS, y=ATTRIBUTE, color=GROUPING, hover_name=\"film\", hover_data=[\"film\",\"frame\"])\n",
    "else:\n",
    "     REGIONS = ['Shanghai (state)', 'Shanghai (private)', 'Beijing', 'Northeast', \"Xi'an\", \"Canton\"]\n",
    "     for i, n in enumerate(REGIONS):\n",
    "        for year in range(1949, 1967):\n",
    "              new_row = {'film':' ', 'frame':-1, 'pos':-1.0, 'year':year, 'category':n, 'studio':' ', 'type':' ', 'intensity':0, 'level':0}\n",
    "              df = pd.concat([df, pd.DataFrame(new_row, index=[0])], ignore_index=True)\n",
    "     df.sort_values(by=\"year\", inplace=True)\n",
    "     if HISTO:\n",
    "        fig = px.histogram(df, x=ATTRIBUTE, color=GROUPING, marginal=\"rug\", hover_name=\"film\", hover_data=[\"film\",\"frame\"]\n",
    "\t\t\t\t\t  , animation_frame=\"year\", range_x=[0,1], histfunc=HISTO_FUNC, nbins=10)\n",
    "     else:\n",
    "     \tfig = px.scatter(df, x=X_AXIS, y=ATTRIBUTE, color=GROUPING, hover_name=\"film\", hover_data=[\"film\",\"frame\"]\n",
    "                      , animation_frame=\"year\", range_x=[0,1])\n",
    "fig.show()"
   ]
  }
 ],
 "metadata": {
  "kernelspec": {
   "display_name": "Python 3",
   "language": "python",
   "name": "python3"
  },
  "language_info": {
   "codemirror_mode": {
    "name": "ipython",
    "version": 3
   },
   "file_extension": ".py",
   "mimetype": "text/x-python",
   "name": "python",
   "nbconvert_exporter": "python",
   "pygments_lexer": "ipython3",
   "version": "3.9.6"
  },
  "orig_nbformat": 4
 },
 "nbformat": 4,
 "nbformat_minor": 2
}
