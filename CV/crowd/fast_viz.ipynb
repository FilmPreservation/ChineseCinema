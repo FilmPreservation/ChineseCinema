{
 "cells": [
  {
   "cell_type": "code",
   "execution_count": null,
   "metadata": {},
   "outputs": [],
   "source": [
    "import plotly.express as px\n",
    "import pandas as pd\n",
    "\n",
    "###Can be \"num_people\", \"num_heads\", or \"n_heads\" (normalized head count)\n",
    "ATTRIBUTE = \"num_heads\"\n",
    "###Can be \"geo_category\", \"production\", \"year\", or \"type\"\n",
    "GROUPING = \"geo_category\"\n",
    "###Can be \"pos\" or \"frame\"\n",
    "X_AXIS = \"pos\"\n",
    "\n",
    "ANIMATE = False\n",
    "\n",
    "###Whether show category as GeoCategories or Studios\n",
    "#CATEGORIZE_BY_GEO_CATEGORY= True\n",
    "\n",
    "###Can be \"Feature\", \"Performance\", \"Artistic Documentary\", \"Opera\", or \"Musical\"\n",
    "###Plus \"Feature_Musical\"\n",
    "###Set as None to show all types\n",
    "TYPE_FILTER = \"Feature_Musical\"\n",
    "\n",
    "###Show the frames with the maximum heads of each film only\n",
    "###Only supports all types or features\n",
    "MAX_ONLY = False\n",
    "\n",
    "###Chinese films (default), Soviet, or Hollywood\n",
    "GROUP = \"\""
   ]
  },
  {
   "cell_type": "code",
   "execution_count": null,
   "metadata": {},
   "outputs": [],
   "source": [
    "tarpath = \"../crowd_results.csv\" if TYPE_FILTER is None else \"./crowd_results-{}.csv\".format(TYPE_FILTER)\n",
    "if GROUP == \"Soviet\":\n",
    "    tarpath = \"../crowd_results-Soviet.csv\"\n",
    "elif GROUP == \"Hollywood\":\n",
    "    tarpath = \"../crowd_results-Hollywood.csv\"\n",
    "if MAX_ONLY:\n",
    "    tarpath = tarpath.replace(\".csv\", \"-max.csv\")\n",
    "\n",
    "df = pd.read_csv(tarpath)\n",
    "df = df.sort_values(by=\"frame\")\n",
    "\n",
    "cap = \"Crowd Sizes\" if ATTRIBUTE == \"num_people\" or ATTRIBUTE == \"num_heads\" else \"Normalized Crowd Sizes\"\n",
    "if MAX_ONLY:\n",
    "    cap = \"Crowds with Maximum Head Count\"\n",
    "\n",
    "# Display the data frame in Plotly scatter plot\n",
    "if not ANIMATE:\n",
    "\tfig = px.scatter(df, x=X_AXIS, y=ATTRIBUTE, color=GROUPING, hover_name=\"film\", hover_data=[\"film\",\"frame\"], title=\"{} Distributed in {}Films\".format(cap, \"All \" if TYPE_FILTER is None else f\"{TYPE_FILTER} \"))\n",
    "else:\n",
    "     REGIONS = ['Shanghai (state)', 'Shanghai (private)', 'Beijing', 'Northeast', \"Xi'an\", \"Canton\"]\n",
    "     for i, n in enumerate(REGIONS):\n",
    "        for year in range(1949, 1967):\n",
    "              new_row = {'film':' ', 'frame':-1, 'pos':-1.0, 'num_people':0, 'num_heads':0, 'geo_category':n, 'production':' ', 'year':year, 'type':' ', 'n_heads':0}\n",
    "              df = pd.concat([df, pd.DataFrame(new_row, index=[0])], ignore_index=True)\n",
    "     df.sort_values(by=\"year\", inplace=True)\n",
    "     fig = px.scatter(df, x=X_AXIS, y=ATTRIBUTE, color=GROUPING, hover_name=\"film\", hover_data=[\"film\",\"frame\"], title=\"{} Distributed in {}Films\".format(cap, \"All \" if TYPE_FILTER is None else f\"{TYPE_FILTER} \")\n",
    "                      , animation_frame=\"year\", range_x=[0,1], range_y=[0,200])\n",
    "fig.show()"
   ]
  }
 ],
 "metadata": {
  "kernelspec": {
   "display_name": "Python 3",
   "language": "python",
   "name": "python3"
  },
  "language_info": {
   "codemirror_mode": {
    "name": "ipython",
    "version": 3
   },
   "file_extension": ".py",
   "mimetype": "text/x-python",
   "name": "python",
   "nbconvert_exporter": "python",
   "pygments_lexer": "ipython3",
   "version": "3.9.6"
  },
  "orig_nbformat": 4
 },
 "nbformat": 4,
 "nbformat_minor": 2
}
