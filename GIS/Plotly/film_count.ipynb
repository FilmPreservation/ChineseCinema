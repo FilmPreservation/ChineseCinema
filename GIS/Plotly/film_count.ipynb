{
 "cells": [
  {
   "cell_type": "code",
   "execution_count": null,
   "metadata": {},
   "outputs": [],
   "source": [
    "import plotly.express as px\n",
    "import pandas as pd"
   ]
  },
  {
   "cell_type": "code",
   "execution_count": null,
   "metadata": {},
   "outputs": [],
   "source": [
    "show_three_subcategories_of_Shanghai = True # When this is True the film studios in Shanghai will be splitted into three sub-categories based on their ownership\n",
    "isolate_film_count_of_each_year = True # When this is True the film count of a studio in each year will be isolated rather than accumulated\n",
    "\n",
    "tarpath = \"../source/studios_geo.csv\"\n",
    "if show_three_subcategories_of_Shanghai:\n",
    "\tif(isolate_film_count_of_each_year):\n",
    "\t\ttarpath = \"../source/studios_geo_shanghai_splited(year_isolated).csv\"\n",
    "\telse:\n",
    "\t\ttarpath = \"../source/studios_geo_shanghai_splited.csv\"\n",
    "else:\n",
    "\tif(isolate_film_count_of_each_year):\n",
    "\t\ttarpath = \"../source/studios_geo(year_isolated).csv\"\n",
    "\t\n",
    "\n",
    "px.set_mapbox_access_token(open(\"./mapbox_token.txt\").read())\n",
    "df = pd.read_csv(tarpath)"
   ]
  },
  {
   "cell_type": "code",
   "execution_count": null,
   "metadata": {},
   "outputs": [],
   "source": [
    "fig = px.scatter_mapbox(df, lat=\"latitude\", lon=\"longitude\", size=\"films_in_year\",\n",
    "\t\t\t\t\tcolor=\"colour_film_ratio_in_year\", color_continuous_scale=\"matter\", range_color=[0, 1],\n",
    "                    size_max=75, text=\"city\", hover_name=\"geo_category\", zoom=3,\n",
    "                    animation_frame=\"year\", animation_group=\"geo_category\",\n",
    "                    mapbox_style=\"mapbox://styles/el-mundo/clgse9vm7001x01p6hrli21dq\")\n",
    "fig.update_traces(cluster=dict(enabled=True))\n",
    "fig.update_layout(height = 640, width = 960,\n",
    "\t\t\t\tmargin={\"r\": 0, \"t\": 0, \"l\": 0, \"b\": 0},\n",
    "\t\t\t\tupdatemenus = [dict(type=\"buttons\",\n",
    "\t\t\t\t\tbuttons = [dict(label = \"Play\",\n",
    "\t\t\t\t\t\tmethod = \"animate\",\n",
    "\t\t\t\t\t\targs = [None, dict(frame=dict(duration = 150),\n",
    "\t\t\t\t\t\ttransition = dict(duration=3000,\n",
    "\t\t\t\t\t\teasing=\"linear\"),\n",
    "\t\t\t\t\t\tfromcurrent = True,\n",
    "\t\t\t\t\t)]),\n",
    "\t\t\t\t\tdict(label = \"Pause\",\n",
    "\t\t\t\t\tmethod = \"animate\",\n",
    "\t\t\t\t\targs = [None, dict(frame =dict(duration = 0, redraw = False),\n",
    "\t\t\t\t\tmode = \"immediate\",\n",
    "\t\t\t\t\ttransition = dict(duration = 0))])\n",
    "\t\t\t\t])])\n",
    "fig.show()"
   ]
  }
 ],
 "metadata": {
  "kernelspec": {
   "display_name": "Python 3",
   "language": "python",
   "name": "python3"
  },
  "language_info": {
   "codemirror_mode": {
    "name": "ipython",
    "version": 3
   },
   "file_extension": ".py",
   "mimetype": "text/x-python",
   "name": "python",
   "nbconvert_exporter": "python",
   "pygments_lexer": "ipython3",
   "version": "3.9.6"
  },
  "orig_nbformat": 4
 },
 "nbformat": 4,
 "nbformat_minor": 2
}
