{
 "cells": [
  {
   "cell_type": "code",
   "execution_count": null,
   "metadata": {},
   "outputs": [],
   "source": [
    "import plotly.express as px\n",
    "import pandas as pd\n",
    "\n",
    "###Whether show category as GeoCategories or Studios\n",
    "CATEGORIZE_BY_GEO_CATEGORY= True\n",
    "###Can be \"Count\", \"Length\", or \"Colour\"\n",
    "ATTRIBUTE = \"Count\"\n",
    "\n",
    "###Read feature-movie-only or all\n",
    "FEATURE_ONLY = True"
   ]
  },
  {
   "cell_type": "code",
   "execution_count": null,
   "metadata": {},
   "outputs": [],
   "source": [
    "tarpath = \"../statistics/studio_film_counts_by_year.csv\"\n",
    "if FEATURE_ONLY:\n",
    "\tif(CATEGORIZE_BY_GEO_CATEGORY):\n",
    "\t\ttarpath = \"../statistics/geocat_feature_counts_by_year.csv\"\n",
    "\telse:\n",
    "\t\ttarpath = \"../statistics/studio_feature_counts_by_year.csv\"\n",
    "else:\n",
    "\tif(CATEGORIZE_BY_GEO_CATEGORY):\n",
    "\t\ttarpath = \"../statistics/geocat_film_counts_by_year.csv\"\n",
    "\n",
    "grouping = \"GeoCategory\" if CATEGORIZE_BY_GEO_CATEGORY else \"Studio\"\n",
    "tiile = \"{} of {} Films by Year, 1949-1966\".format(\"Average Length (in Reels)\" if ATTRIBUTE == \"Length\" else \"Percentage of Colour Films\" if ATTRIBUTE == \"Colour\" else \"Counts\",\n",
    "\t\t\t\t\t\t   \"Feature\" if FEATURE_ONLY else \"All\")\n",
    "\n",
    "df = pd.read_csv(tarpath)\n",
    "df = df.sort_values(by=\"Year\")\n",
    "\n",
    "# Display the data frame in Plotly scatter plot\n",
    "if not CATEGORIZE_BY_GEO_CATEGORY:\n",
    "\tfig = px.line(df, x=\"Year\", y=ATTRIBUTE, color=grouping, hover_name=grouping, hover_data=[\"Count\",\"Year\",\"Colour\",\"Length\"], title=tiile)\n",
    "else:\n",
    "\tfig = px.line(df, x=\"Year\", y=ATTRIBUTE, color=grouping, hover_name=grouping, hover_data=[\"Count\",\"Year\",\"Colour\",\"Length\"], title=tiile,\n",
    "\t    color_discrete_map={\n",
    "\t\t\t\t\t\t\"All\": \"#ff5250\",#red\n",
    "\t\t\t\t\t\t\"Shanghai (state)\": \"#68d162\",#green\n",
    "\t\t\t\t\t\t\"Shanghai (private)\" : \"#404840\",#green black\n",
    "\t\t\t\t\t\t\"Shanghai (roc)\" : \"#96fb96\",#light green\n",
    "\t\t\t\t\t\t\"Beijing\": \"#D063fb\",#hliotrope\n",
    "\t\t\t\t\t\t\"Northeast\": \"#72d2ed\",#sky blue\n",
    "\t\t\t\t\t\t\"Xi'an\": \"#Fb9f68\",#tan orange\n",
    "\t\t\t\t\t\t\"Canton\": \"#Fb94cc\",#lavender pink\n",
    "\t\t\t\t\t\t\"Xinjiang\": \"#C83b3b\",#dark red\n",
    "\t\t\t\t\t\t\"Sichuan\" : \"#2c6398\",#tropaz blue\n",
    "\t\t\t\t\t\t\"Hubei\": \"#A3a3a3\",\n",
    "\t\t\t\t\t\t\"Anhui\": \"#A3a3a3\",\n",
    "\t\t\t\t\t\t\"Shandong\": \"#A3a3a3\",\n",
    "\t\t\t\t\t\t\"Tianjin\": \"#A3a3a3\",\n",
    "\t\t\t\t\t\t\"Zhejiang\": \"#A3a3a3\"\n",
    "\t\t\t\t\t})\n",
    "fig.show()"
   ]
  }
 ],
 "metadata": {
  "kernelspec": {
   "display_name": "Python 3",
   "language": "python",
   "name": "python3"
  },
  "language_info": {
   "codemirror_mode": {
    "name": "ipython",
    "version": 3
   },
   "file_extension": ".py",
   "mimetype": "text/x-python",
   "name": "python",
   "nbconvert_exporter": "python",
   "pygments_lexer": "ipython3",
   "version": "3.9.6"
  },
  "orig_nbformat": 4
 },
 "nbformat": 4,
 "nbformat_minor": 2
}
